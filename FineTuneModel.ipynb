{
  "nbformat": 4,
  "nbformat_minor": 0,
  "metadata": {
    "colab": {
      "provenance": [],
      "gpuType": "T4",
      "include_colab_link": true
    },
    "kernelspec": {
      "name": "python3",
      "display_name": "Python 3"
    },
    "language_info": {
      "name": "python"
    },
    "accelerator": "GPU"
  },
  "cells": [
    {
      "cell_type": "markdown",
      "metadata": {
        "id": "view-in-github",
        "colab_type": "text"
      },
      "source": [
        "<a href=\"https://colab.research.google.com/github/ahmednasri05/ImageEvaL/blob/main/FineTuneModel.ipynb\" target=\"_parent\"><img src=\"https://colab.research.google.com/assets/colab-badge.svg\" alt=\"Open In Colab\"/></a>"
      ]
    },
    {
      "cell_type": "code",
      "source": [
        "# Verify that you have the GPU recognized, this code needs GPU.\n",
        "!nvidia-smi"
      ],
      "metadata": {
        "id": "9V2gLNf9gCvH",
        "outputId": "a4b0c6d8-ad99-42b4-e16b-554dbaf1d592",
        "colab": {
          "base_uri": "https://localhost:8080/"
        }
      },
      "execution_count": 24,
      "outputs": [
        {
          "output_type": "stream",
          "name": "stdout",
          "text": [
            "Fri Jul 18 14:30:25 2025       \n",
            "+-----------------------------------------------------------------------------------------+\n",
            "| NVIDIA-SMI 550.54.15              Driver Version: 550.54.15      CUDA Version: 12.4     |\n",
            "|-----------------------------------------+------------------------+----------------------+\n",
            "| GPU  Name                 Persistence-M | Bus-Id          Disp.A | Volatile Uncorr. ECC |\n",
            "| Fan  Temp   Perf          Pwr:Usage/Cap |           Memory-Usage | GPU-Util  Compute M. |\n",
            "|                                         |                        |               MIG M. |\n",
            "|=========================================+========================+======================|\n",
            "|   0  Tesla T4                       Off |   00000000:00:04.0 Off |                    0 |\n",
            "| N/A   47C    P8              9W /   70W |       2MiB /  15360MiB |      0%      Default |\n",
            "|                                         |                        |                  N/A |\n",
            "+-----------------------------------------+------------------------+----------------------+\n",
            "                                                                                         \n",
            "+-----------------------------------------------------------------------------------------+\n",
            "| Processes:                                                                              |\n",
            "|  GPU   GI   CI        PID   Type   Process name                              GPU Memory |\n",
            "|        ID   ID                                                               Usage      |\n",
            "|=========================================================================================|\n",
            "|  No running processes found                                                             |\n",
            "+-----------------------------------------------------------------------------------------+\n"
          ]
        }
      ]
    },
    {
      "cell_type": "code",
      "source": [
        "#Clone from the Github SinaLab/ImageCaptionSharedTask2025.git\n",
        "!git clone https://github.com/SinaLab/ImageCaptionSharedTask2025.git"
      ],
      "metadata": {
        "id": "4pqcNFHykdP0"
      },
      "execution_count": null,
      "outputs": []
    },
    {
      "cell_type": "code",
      "source": [
        "#Change directory to the base directory\n",
        "import os\n",
        "os.chdir('/content/ImageCaptionSharedTask2025/ImageValFinetune')\n",
        "\n"
      ],
      "metadata": {
        "id": "dGXncAYlJBXR"
      },
      "execution_count": null,
      "outputs": []
    },
    {
      "cell_type": "code",
      "source": [
        "#  Install dependencies\n",
        "!pip install -r requirements.txt"
      ],
      "metadata": {
        "id": "NxNKY3aNoh7j"
      },
      "execution_count": null,
      "outputs": []
    },
    {
      "cell_type": "code",
      "source": [
        "# You have two options for uploading the training dataset:\n",
        "# Option 1: Place the image folder at the following path in your Google Drive:\n",
        "#           /content/drive/MyDrive/ImageVal/Train/images\n",
        "#           And place the caption file here:\n",
        "#           /content/drive/MyDrive/ImageVal/Train/TrainSubtask2.xlsx\n",
        "# Option 2: Use the dataset via the Hugging Face link.\n",
        "\n",
        "          '''\n",
        "          Please hange the directory and the token\n",
        "          Please make sure to run on a pproved account\n",
        "          import os\n",
        "          from huggingface_hub import snapshot_download\n",
        "          login(token=\"add you hugging face directory\")\n",
        "\n",
        "          target_dir = \"/content/Train/\"\n",
        "\n",
        "          os.makedirs(target_dir, exist_ok=True)\n",
        "\n",
        "          dataset_dir = snapshot_download(\n",
        "              repo_id=\"SinaLab/ImageEval2025Task2TrainDataset\",\n",
        "              repo_type=\"dataset\",\n",
        "              local_dir=target_dir,\n",
        "              local_dir_use_symlinks=False\n",
        "          )\n",
        "\n",
        "          '''\n",
        "from google.colab import drive\n",
        "import os\n",
        "from finetune_trainer import ArabicImageCaptionTrainer\n",
        "\n",
        "# Mount Google Drive\n",
        "drive.mount('/content/drive')\n",
        "\n",
        "# Set base directory\n",
        "base_dir = \"/content/drive/MyDrive/ImageVal\"\n",
        "\n",
        "# Initialize trainer\n",
        "trainer = ArabicImageCaptionTrainer(base_dir=base_dir)\n",
        "\n",
        "# Setup environment\n",
        "if not trainer.setup_environment():\n",
        "    print(\" Setup failed\")\n",
        "else:\n",
        "    # Set expected paths\n",
        "    excel_file = f\"{base_dir}/Train/TrainSubtask2.xlsx\"\n",
        "    images_dir = f\"{base_dir}/Train/images\"\n",
        "\n",
        "    if os.path.exists(excel_file) and os.path.exists(images_dir):\n",
        "        if trainer.prepare_dataset(excel_file=excel_file, images_dir=images_dir):\n",
        "            print(\" Dataset preparation complete\")\n",
        "            standard_config = trainer.create_training_config(conservative=False)\n",
        "            conservative_config = trainer.create_training_config(conservative=True)\n",
        "\n",
        "            print(f\" Ready to train!\")\n",
        "            print(f\"trainer.start_training('{standard_config}')\")\n",
        "            print(f\"or\")\n",
        "            print(f\"trainer.start_training('{conservative_config}')  # for limited VRAM\")\n",
        "        else:\n",
        "            print(\"Dataset preparation failed\")\n",
        "    else:\n",
        "        print(\"Required files not found. Please upload them first.\")\n",
        "\n",
        "\n"
      ],
      "metadata": {
        "id": "CpxE0KUBot_k"
      },
      "execution_count": null,
      "outputs": []
    },
    {
      "cell_type": "code",
      "source": [
        "# Model Training\n",
        "!python run_training.py --base_dir /content/drive/MyDrive/ImageVal --conservative"
      ],
      "metadata": {
        "id": "2JCxrBlupg-M"
      },
      "execution_count": null,
      "outputs": []
    },
    {
      "cell_type": "code",
      "source": [
        "# Model Evaluation\n",
        "#For evaluation last checkpoint\n",
        "!python evaluate_model.py --base_dir /content/drive/MyDrive/ImageVal\n"
      ],
      "metadata": {
        "id": "JMKYVmm6qCbz"
      },
      "execution_count": null,
      "outputs": []
    }
  ]
}